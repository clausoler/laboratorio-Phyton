{
 "cells": [
  {
   "cell_type": "markdown",
   "metadata": {},
   "source": [
    "\n",
    "<div style=\"text-align: center;\">\n",
    "  <img src=\"https://github.com/Hack-io-Data/Imagenes/blob/main/01-LogosHackio/logo_celeste@4x.png?raw=true\" alt=\"esquema\" />\n",
    "</div>\n"
   ]
  },
  {
   "cell_type": "markdown",
   "metadata": {},
   "source": [
    "# Laboratorio de Python: manejo de errores."
   ]
  },
  {
   "cell_type": "markdown",
   "metadata": {},
   "source": [
    "## Ejercicio 1: División con manejo de excepciones\n",
    "\n",
    "Escribe un programa que pida al usuario dos números e intente dividirlos. Si el usuario ingresa un valor no numérico o intenta dividir por cero, maneja esas excepciones de manera adecuada. Asegúrate de mostrar un mensaje indicando si la división fue exitosa o no.\n"
   ]
  },
  {
   "cell_type": "code",
   "execution_count": 6,
   "metadata": {},
   "outputs": [
    {
     "name": "stdout",
     "output_type": "stream",
     "text": [
      "Error: No se puede dividir entre cero.\n",
      "Programa terminado.\n"
     ]
    }
   ],
   "source": [
    "try:\n",
    "    numerador = float(input(\"Ingresa el numerador: \"))\n",
    "    denominador = float(input(\"Ingresa el denominador: \"))\n",
    "    \n",
    "    resultado = numerador / denominador\n",
    "\n",
    "except ValueError:\n",
    "    print(\"Error: Debes ingresar valores numéricos.\")\n",
    "\n",
    "except ZeroDivisionError:\n",
    "    print(\"Error: No se puede dividir entre cero.\")\n",
    "\n",
    "else:\n",
    "    print(f\"La división fue exitosa. El resultado es: {resultado}\")\n",
    "\n",
    "finally:\n",
    "    print(\"Programa terminado.\")\n"
   ]
  },
  {
   "cell_type": "markdown",
   "metadata": {},
   "source": [
    "## Ejercicio 2: Acceso a archivos\n",
    "\n",
    "Escribe un programa que intente abrir un archivo llamado \"datos.txt\". Si el archivo no existe, captura la excepción y muestra un mensaje de error. Asegúrate de cerrar el archivo correctamente en la sección `finally`.\n"
   ]
  },
  {
   "cell_type": "code",
   "execution_count": 15,
   "metadata": {},
   "outputs": [
    {
     "name": "stdout",
     "output_type": "stream",
     "text": [
      "Error: El archivo 'datos.txt' no existe.\n",
      "El archivo se ha cerrado correctamente\n"
     ]
    }
   ],
   "source": [
    "try:\n",
    " with open('archivo.txt', 'r') as archivo:\n",
    "    contenido = archivo.read()\n",
    "    print(contenido)\n",
    "\n",
    "except IOError:\n",
    "    print(\"Error: El archivo 'datos.txt' no existe.\")\n",
    "\n",
    "finally:\n",
    "    print(\"El archivo se ha cerrado correctamente\")\n"
   ]
  },
  {
   "cell_type": "markdown",
   "metadata": {},
   "source": [
    "## Ejercicio 3: Conversión de cadenas a enteros\n",
    "\n",
    "Escribe un programa que pida una lista de números separados por comas y convierta cada valor a un número entero. Maneja las excepciones para valores que no sean convertibles y asegúrate de informar si la conversión fue exitosa o no.\n"
   ]
  },
  {
   "cell_type": "code",
   "execution_count": 13,
   "metadata": {},
   "outputs": [
    {
     "name": "stdout",
     "output_type": "stream",
     "text": [
      "Error: '6&' no es un número válido. Se omitirá.\n",
      "Error: '7%' no es un número válido. Se omitirá.\n",
      "Conversión exitosa. Lista de números enteros:\n",
      "[]\n",
      "Proceso de conversión finalizado con éxito.\n"
     ]
    }
   ],
   "source": [
    "try:\n",
    "    entrada = input(\"Ingresa una lista de números separados por comas: \")\n",
    "    \n",
    "    elementos = entrada.split(\",\")\n",
    "    \n",
    "    numeros = []\n",
    "    for elemento in elementos:\n",
    "        try:\n",
    "            numero = int(elemento.strip())\n",
    "            numeros.append(numero)\n",
    "        except ValueError:\n",
    "            print(f\"Error: '{elemento.strip()}' no es un número válido. Se omitirá.\")\n",
    "    \n",
    "    print(\"Conversión exitosa. Lista de números enteros:\")\n",
    "    print(numeros)\n",
    "\n",
    "except Exception as e:\n",
    "    print(f\"Se produjo un error inesperado: {e}\")\n",
    "\n",
    "finally:\n",
    "    print(\"Proceso de conversión finalizado con éxito.\")\n"
   ]
  },
  {
   "cell_type": "markdown",
   "metadata": {},
   "source": [
    "#### Ejercicio 4: Cálculo del promedio con manejo de excepciones\n",
    "\n",
    "Escribe una función que reciba una lista de números y calcule su promedio. Si la lista está vacía, lanza una excepción personalizada y maneja el error adecuadamente.\n"
   ]
  },
  {
   "cell_type": "code",
   "execution_count": 31,
   "metadata": {},
   "outputs": [
    {
     "name": "stdout",
     "output_type": "stream",
     "text": [
      "Se produjo un error inesperado: could not convert string to float: '\"\"'\n",
      "Proceso finalizado.\n"
     ]
    }
   ],
   "source": [
    "#Ejemplo de lista\n",
    "lista = [2, 3, 5, \"\", 8]\n",
    " \n",
    "def calcular_promedio(lista):\n",
    "    if not lista:\n",
    "        print(\"La lista está vacía. No se puede calcular el promedio.\")\n",
    "    return sum(lista) / len(lista)\n",
    "\n",
    "try:\n",
    "    entrada = input(\"Ingresa una lista de números separados por comas: \")\n",
    "    numeros = [float(x.strip()) for x in entrada.split(\",\") if x.strip()] \n",
    "    \n",
    "    promedio = calcular_promedio(numeros)\n",
    "    print(f\"El promedio de la lista es: {promedio}\")\n",
    "\n",
    "except ValueError as e:\n",
    "    print(f\"Se produjo un error inesperado: {e}\")\n",
    "\n",
    "finally:\n",
    "    print(\"Proceso finalizado.\")\n"
   ]
  },
  {
   "cell_type": "markdown",
   "metadata": {},
   "source": [
    "#### Ejercicio 5: Conversión segura de números\n",
    "\n",
    "Escribe un programa que convierta una cadena a número flotante e intente realizar una operación aritmética. Si la conversión falla, maneja la excepción y continúa con el flujo normal."
   ]
  },
  {
   "cell_type": "code",
   "execution_count": 46,
   "metadata": {},
   "outputs": [
    {
     "name": "stdout",
     "output_type": "stream",
     "text": [
      "Operación exitosa: 42.5 + 10 = 52.5\n",
      "Intento de operación finalizado.\n",
      "\n",
      "Error: No se pudo convertir 'abc' en un número.\n",
      "Intento de operación finalizado.\n",
      "\n",
      "Operación exitosa: 10.2 + 10 = 20.2\n",
      "Intento de operación finalizado.\n",
      "\n",
      "Error: No se pudo convertir 'cinco' en un número.\n",
      "Intento de operación finalizado.\n",
      "\n",
      "Operación exitosa: 100.0 + 10 = 110.0\n",
      "Intento de operación finalizado.\n",
      "\n"
     ]
    }
   ],
   "source": [
    "def convertir_y_operar(cadena, operador):\n",
    "    try:\n",
    "        numero = float(cadena)\n",
    "        resultado = numero + operador\n",
    "        print(f\"Operación exitosa: {numero} + {operador} = {resultado}\")\n",
    "    \n",
    "    except ValueError:\n",
    "       print(f\"Error: No se pudo convertir '{cadena}' en un número.\")\n",
    "    \n",
    "    finally:\n",
    "        print(\"Intento de operación finalizado.\\n\")\n",
    "\n",
    "# Ejemplo\n",
    "cadenas = [\"42.5\", \"abc\", \"10.2\", \"cinco\", \"100\"]\n",
    "operador = 10  # Por ejemplo, se realiza la operación con este número\n",
    "\n",
    "for cadena in cadenas:\n",
    "    convertir_y_operar(cadena, operador)\n"
   ]
  },
  {
   "cell_type": "markdown",
   "metadata": {},
   "source": [
    "#### Ejercicio 6: Acceso a claves en diccionarios\n",
    "\n",
    "Escribe un programa que intente acceder a una clave específica en un diccionario. Si la clave no existe, maneja la excepción `KeyError` y muestra un mensaje indicando el problema."
   ]
  },
  {
   "cell_type": "code",
   "execution_count": null,
   "metadata": {},
   "outputs": [],
   "source": []
  },
  {
   "cell_type": "markdown",
   "metadata": {},
   "source": [
    "\n",
    "#### Ejercicio 7: Verificación de entradas de usuario\n",
    "\n",
    "Escribe un programa que pida al usuario que introduzca su edad. Si el usuario ingresa un valor no numérico o un valor fuera del rango esperado (por ejemplo, menor que 0 o mayor que 120), maneja las excepciones adecuadamente."
   ]
  },
  {
   "cell_type": "code",
   "execution_count": null,
   "metadata": {},
   "outputs": [],
   "source": []
  },
  {
   "cell_type": "markdown",
   "metadata": {},
   "source": [
    "#### Ejercicio 8: Extracción de valores de una lista\n",
    "\n",
    "Escribe una función que intente acceder a un índice específico en una lista. Si el índice está fuera del rango, maneja la excepción `IndexError` y muestra un mensaje adecuado.\n"
   ]
  },
  {
   "cell_type": "code",
   "execution_count": null,
   "metadata": {},
   "outputs": [],
   "source": []
  }
 ],
 "metadata": {
  "kernelspec": {
   "display_name": "Python 3",
   "language": "python",
   "name": "python3"
  },
  "language_info": {
   "codemirror_mode": {
    "name": "ipython",
    "version": 3
   },
   "file_extension": ".py",
   "mimetype": "text/x-python",
   "name": "python",
   "nbconvert_exporter": "python",
   "pygments_lexer": "ipython3",
   "version": "3.12.4"
  }
 },
 "nbformat": 4,
 "nbformat_minor": 2
}
