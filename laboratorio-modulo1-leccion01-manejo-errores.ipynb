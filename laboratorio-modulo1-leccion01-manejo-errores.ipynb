{
 "cells": [
  {
   "cell_type": "markdown",
   "metadata": {},
   "source": [
    "\n",
    "<div style=\"text-align: center;\">\n",
    "  <img src=\"https://github.com/Hack-io-Data/Imagenes/blob/main/01-LogosHackio/logo_celeste@4x.png?raw=true\" alt=\"esquema\" />\n",
    "</div>\n"
   ]
  },
  {
   "cell_type": "markdown",
   "metadata": {},
   "source": [
    "# Laboratorio de Python: manejo de errores."
   ]
  },
  {
   "cell_type": "markdown",
   "metadata": {},
   "source": [
    "## Ejercicio 1: División con manejo de excepciones\n",
    "\n",
    "Escribe un programa que pida al usuario dos números e intente dividirlos. Si el usuario ingresa un valor no numérico o intenta dividir por cero, maneja esas excepciones de manera adecuada. Asegúrate de mostrar un mensaje indicando si la división fue exitosa o no.\n"
   ]
  },
  {
   "cell_type": "code",
   "execution_count": 1,
   "metadata": {},
   "outputs": [
    {
     "name": "stdout",
     "output_type": "stream",
     "text": [
      "Error: Debes ingresar valores numéricos.\n",
      "Programa terminado.\n"
     ]
    }
   ],
   "source": [
    "try:\n",
    "    numerador = float(input(\"Ingresa el numerador: \"))\n",
    "    denominador = float(input(\"Ingresa el denominador: \"))\n",
    "    \n",
    "    resultado = numerador / denominador\n",
    "\n",
    "except ValueError:\n",
    "    print(\"Error: Debes ingresar valores numéricos.\")\n",
    "\n",
    "except ZeroDivisionError:\n",
    "    print(\"Error: No se puede dividir entre cero.\")\n",
    "\n",
    "else:\n",
    "    print(f\"La división fue exitosa. El resultado es: {resultado}\")\n",
    "\n",
    "finally:\n",
    "    print(\"Programa terminado.\")\n"
   ]
  },
  {
   "cell_type": "markdown",
   "metadata": {},
   "source": [
    "## Ejercicio 2: Acceso a archivos\n",
    "\n",
    "Escribe un programa que intente abrir un archivo llamado \"datos.txt\". Si el archivo no existe, captura la excepción y muestra un mensaje de error. Asegúrate de cerrar el archivo correctamente en la sección `finally`.\n"
   ]
  },
  {
   "cell_type": "code",
   "execution_count": 2,
   "metadata": {},
   "outputs": [
    {
     "name": "stdout",
     "output_type": "stream",
     "text": [
      "Error: El archivo 'datos.txt' no existe.\n",
      "El archivo se ha cerrado correctamente\n"
     ]
    }
   ],
   "source": [
    "try:\n",
    " with open('archivo.txt', 'r') as archivo:\n",
    "    contenido = archivo.read()\n",
    "    print(contenido)\n",
    "\n",
    "except IOError:\n",
    "    print(\"Error: El archivo 'datos.txt' no existe.\")\n",
    "\n",
    "finally:\n",
    "    print(\"El archivo se ha cerrado correctamente\")\n"
   ]
  },
  {
   "cell_type": "markdown",
   "metadata": {},
   "source": [
    "## Ejercicio 3: Conversión de cadenas a enteros\n",
    "\n",
    "Escribe un programa que pida una lista de números separados por comas y convierta cada valor a un número entero. Maneja las excepciones para valores que no sean convertibles y asegúrate de informar si la conversión fue exitosa o no.\n"
   ]
  },
  {
   "cell_type": "code",
   "execution_count": 3,
   "metadata": {},
   "outputs": [
    {
     "name": "stdout",
     "output_type": "stream",
     "text": [
      "Error: '8i' no es un número válido. Se omitirá.\n",
      "Conversión exitosa. Lista de números enteros:\n",
      "[5, 6]\n",
      "Proceso de conversión finalizado con éxito.\n"
     ]
    }
   ],
   "source": [
    "try:\n",
    "    entrada = input(\"Ingresa una lista de números separados por comas: \")\n",
    "    \n",
    "    elementos = entrada.split(\",\")\n",
    "    \n",
    "    numeros = []\n",
    "    for elemento in elementos:\n",
    "        try:\n",
    "            numero = int(elemento.strip())\n",
    "            numeros.append(numero)\n",
    "        except ValueError:\n",
    "            print(f\"Error: '{elemento.strip()}' no es un número válido. Se omitirá.\")\n",
    "    \n",
    "    print(\"Conversión exitosa. Lista de números enteros:\")\n",
    "    print(numeros)\n",
    "\n",
    "except Exception as e:\n",
    "    print(f\"Se produjo un error inesperado: {e}\")\n",
    "\n",
    "finally:\n",
    "    print(\"Proceso de conversión finalizado con éxito.\")\n"
   ]
  },
  {
   "cell_type": "markdown",
   "metadata": {},
   "source": [
    "#### Ejercicio 4: Cálculo del promedio con manejo de excepciones\n",
    "\n",
    "Escribe una función que reciba una lista de números y calcule su promedio. Si la lista está vacía, lanza una excepción personalizada y maneja el error adecuadamente.\n"
   ]
  },
  {
   "cell_type": "code",
   "execution_count": 5,
   "metadata": {},
   "outputs": [
    {
     "name": "stdout",
     "output_type": "stream",
     "text": [
      "El promedio de la lista es: 30.0\n",
      "Error: La lista está vacía. No se puede calcular el promedio.\n"
     ]
    }
   ],
   "source": [
    "def calcular_promedio(lista):\n",
    "    if len(lista) == 0:\n",
    "        return \"Error: La lista está vacía. No se puede calcular el promedio.\"\n",
    "    # Calcular y devolver el promedio\n",
    "    promedio = sum(lista) / len(lista)\n",
    "    return f\"El promedio de la lista es: {promedio}\"\n",
    "\n",
    "# Ejemplo\n",
    "numeros = [10, 20, 30, 40, 50] \n",
    "resultado = calcular_promedio(numeros)\n",
    "print(resultado)\n",
    "\n",
    "# Probar con una lista vacía\n",
    "numeros_vacios = []\n",
    "resultado_vacio = calcular_promedio(numeros_vacios)\n",
    "print(resultado_vacio)\n"
   ]
  },
  {
   "cell_type": "markdown",
   "metadata": {},
   "source": [
    "#### Ejercicio 5: Conversión segura de números\n",
    "\n",
    "Escribe un programa que convierta una cadena a número flotante e intente realizar una operación aritmética. Si la conversión falla, maneja la excepción y continúa con el flujo normal."
   ]
  },
  {
   "cell_type": "code",
   "execution_count": 6,
   "metadata": {},
   "outputs": [
    {
     "name": "stdout",
     "output_type": "stream",
     "text": [
      "Operación exitosa: 42.5 + 10 = 52.5\n",
      "Intento de operación finalizado.\n",
      "\n",
      "Error: No se pudo convertir 'abc' en un número.\n",
      "Intento de operación finalizado.\n",
      "\n",
      "Operación exitosa: 10.2 + 10 = 20.2\n",
      "Intento de operación finalizado.\n",
      "\n",
      "Error: No se pudo convertir 'cinco' en un número.\n",
      "Intento de operación finalizado.\n",
      "\n",
      "Operación exitosa: 100.0 + 10 = 110.0\n",
      "Intento de operación finalizado.\n",
      "\n"
     ]
    }
   ],
   "source": [
    "def convertir_y_operar(cadena, operador):\n",
    "    try:\n",
    "        numero = float(cadena)\n",
    "        resultado = numero + operador\n",
    "        print(f\"Operación exitosa: {numero} + {operador} = {resultado}\")\n",
    "    \n",
    "    except ValueError:\n",
    "       print(f\"Error: No se pudo convertir '{cadena}' en un número.\")\n",
    "    \n",
    "    finally:\n",
    "        print(\"Intento de operación finalizado.\\n\")\n",
    "\n",
    "# Ejemplo\n",
    "cadenas = [\"42.5\", \"abc\", \"10.2\", \"cinco\", \"100\"]\n",
    "operador = 10  # Por ejemplo, se realiza la operación con este número\n",
    "\n",
    "for cadena in cadenas:\n",
    "    convertir_y_operar(cadena, operador)\n"
   ]
  },
  {
   "cell_type": "markdown",
   "metadata": {},
   "source": [
    "#### Ejercicio 6: Acceso a claves en diccionarios\n",
    "\n",
    "Escribe un programa que intente acceder a una clave específica en un diccionario. Si la clave no existe, maneja la excepción `KeyError` y muestra un mensaje indicando el problema."
   ]
  },
  {
   "cell_type": "code",
   "execution_count": 7,
   "metadata": {},
   "outputs": [
    {
     "name": "stdout",
     "output_type": "stream",
     "text": [
      "Error: La clave 'profesion' no existe en el diccionario.\n",
      "Búsqueda en el diccionario finalizada.\n"
     ]
    }
   ],
   "source": [
    "datos_animal = {\n",
    "    \"nombre\": \"Kaira\",\n",
    "    \"edad\": 5,\n",
    "    \"raza\": \"Perro\"\n",
    "}\n",
    "\n",
    "clave = input(\"Ingresa la clave que deseas buscar en el diccionario: \")\n",
    "\n",
    "try:\n",
    "    valor = datos_animal[clave]\n",
    "    print(f\"El valor de la clave '{clave}' es: {valor}\")\n",
    "\n",
    "except KeyError:\n",
    "   print(f\"Error: La clave '{clave}' no existe en el diccionario.\")\n",
    "\n",
    "finally:\n",
    "    print(\"Búsqueda en el diccionario finalizada.\")\n"
   ]
  },
  {
   "cell_type": "markdown",
   "metadata": {},
   "source": [
    "\n",
    "#### Ejercicio 7: Verificación de entradas de usuario\n",
    "\n",
    "Escribe un programa que pida al usuario que introduzca su edad. Si el usuario ingresa un valor no numérico o un valor fuera del rango esperado (por ejemplo, menor que 0 o mayor que 120), maneja las excepciones adecuadamente."
   ]
  },
  {
   "cell_type": "code",
   "execution_count": 8,
   "metadata": {},
   "outputs": [
    {
     "name": "stdout",
     "output_type": "stream",
     "text": [
      "Error: La edad debe estar entre 0 y 120 años.\n",
      "Proceso de validación de edad finalizado.\n"
     ]
    }
   ],
   "source": [
    "def solicitar_edad():\n",
    "    try:\n",
    "        edad = input(\"Por favor, introduce tu edad: \")\n",
    "        \n",
    "        edad = int(edad)\n",
    "        \n",
    "        if edad < 0 or edad > 120:\n",
    "            print(\"Error: La edad debe estar entre 0 y 120 años.\")\n",
    "        else:\n",
    "            print(f\"Gracias. Has introducido una edad válida: {edad} años.\")\n",
    "    except ValueError:\n",
    "        print(\"Error: Debes ingresar un número entero válido.\")\n",
    "    finally:\n",
    "        print(\"Proceso de validación de edad finalizado.\")\n",
    "         \n",
    "solicitar_edad()"
   ]
  },
  {
   "cell_type": "markdown",
   "metadata": {},
   "source": [
    "#### Ejercicio 8: Extracción de valores de una lista\n",
    "\n",
    "Escribe una función que intente acceder a un índice específico en una lista. Si el índice está fuera del rango, maneja la excepción `IndexError` y muestra un mensaje adecuado.\n"
   ]
  },
  {
   "cell_type": "code",
   "execution_count": 9,
   "metadata": {},
   "outputs": [
    {
     "name": "stdout",
     "output_type": "stream",
     "text": [
      "El valor en el índice 2 es: 30\n",
      "Intento de acceso al índice finalizado.\n",
      "Error: El índice 10 está fuera del rango válido para la lista.\n",
      "Intento de acceso al índice finalizado.\n"
     ]
    }
   ],
   "source": [
    "# Ejemplo\n",
    "lista = [10, 20, 30, 40, 50]\n",
    "\n",
    "def acceder_indice(lista, indice):\n",
    "    try:\n",
    "        valor = lista[indice]\n",
    "        print(f\"El valor en el índice {indice} es: {valor}\")\n",
    "    \n",
    "    except IndexError:\n",
    "        print(f\"Error: El índice {indice} está fuera del rango válido para la lista.\")\n",
    "   \n",
    "    finally:\n",
    "        print(\"Intento de acceso al índice finalizado.\")\n",
    "\n",
    "# Probar con un índice válido\n",
    "acceder_indice(lista, 2)\n",
    "\n",
    "# Probar con un índice fuera del rango\n",
    "acceder_indice(lista, 10)"
   ]
  }
 ],
 "metadata": {
  "kernelspec": {
   "display_name": "Python 3",
   "language": "python",
   "name": "python3"
  },
  "language_info": {
   "codemirror_mode": {
    "name": "ipython",
    "version": 3
   },
   "file_extension": ".py",
   "mimetype": "text/x-python",
   "name": "python",
   "nbconvert_exporter": "python",
   "pygments_lexer": "ipython3",
   "version": "3.12.4"
  }
 },
 "nbformat": 4,
 "nbformat_minor": 2
}
