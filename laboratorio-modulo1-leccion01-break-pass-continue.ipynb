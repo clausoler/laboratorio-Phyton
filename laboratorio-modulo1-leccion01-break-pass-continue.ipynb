{
 "cells": [
  {
   "cell_type": "markdown",
   "metadata": {},
   "source": [
    "\n",
    "<div style=\"text-align: center;\">\n",
    "  <img src=\"https://github.com/Hack-io-Data/Imagenes/blob/main/01-LogosHackio/logo_celeste@4x.png?raw=true\" alt=\"esquema\" />\n",
    "</div>\n"
   ]
  },
  {
   "cell_type": "markdown",
   "metadata": {},
   "source": [
    "# Laboratorio de Python: break(), pass(), continue()"
   ]
  },
  {
   "cell_type": "markdown",
   "metadata": {},
   "source": [
    "## Ejercicio 1: Validación de datos numéricos. \n",
    "\n",
    "Escribe un bucle que lea una lista de números y detenga la ejecución si encuentra un valor negativo. Muestra un mensaje indicando el número negativo encontrado.\n"
   ]
  },
  {
   "cell_type": "code",
   "execution_count": 1,
   "metadata": {},
   "outputs": [
    {
     "name": "stdout",
     "output_type": "stream",
     "text": [
      "El numero positivo encontrado es 30\n",
      "El numero positivo encontrado es 10\n",
      "El numero positivo encontrado es 20\n",
      "Se ha encontrado un número negativo -5. Se detiene la ejecución\n"
     ]
    }
   ],
   "source": [
    "lista_numeros = [30, 10, 20, -5, 40, 60]\n",
    "\n",
    "for numero in lista_numeros:\n",
    "    if numero < 0:\n",
    "        print(f\"Se ha encontrado un número negativo {numero}. Se detiene la ejecución\")\n",
    "        break\n",
    "    else:\n",
    "        print(f\"El numero positivo encontrado es {numero}\")"
   ]
  },
  {
   "cell_type": "markdown",
   "metadata": {},
   "source": [
    "\n",
    "## Ejercicio 2: Filtrado de datos\n",
    "\n",
    "Escribe un bucle que imprima los números de una lista, pero que omita los números pares.\n"
   ]
  },
  {
   "cell_type": "code",
   "execution_count": 2,
   "metadata": {},
   "outputs": [
    {
     "name": "stdout",
     "output_type": "stream",
     "text": [
      "Los numeros impares son -5\n"
     ]
    }
   ],
   "source": [
    "lista_numeros = [30, 10, 20, -5, 40, 60]\n",
    " \n",
    "for numero in lista_numeros:\n",
    "    if numero % 2 == 0:\n",
    "        continue\n",
    "    print(f\"Los numeros impares son {numero}\")"
   ]
  },
  {
   "cell_type": "markdown",
   "metadata": {},
   "source": [
    "## Ejercicio 3: Búsqueda de un valor\n",
    "\n",
    "Escribe un programa que busque un valor específico en una lista y detenga la búsqueda cuando lo encuentre. Si se encuentra, muestra un mensaje.\n"
   ]
  },
  {
   "cell_type": "code",
   "execution_count": 3,
   "metadata": {},
   "outputs": [
    {
     "name": "stdout",
     "output_type": "stream",
     "text": [
      "El valor 20 no se encuentra en la lista.\n",
      "El valor 20 no se encuentra en la lista.\n",
      "El valor encontrado es 20.Se detiene la búsqueda\n"
     ]
    }
   ],
   "source": [
    "lista_numeros = [30, 10, 20, -5, 40, 60]\n",
    " \n",
    "valor_buscado = 20\n",
    " \n",
    "for numero in lista_numeros:\n",
    "    if numero == valor_buscado:\n",
    "        print(f\"El valor encontrado es {numero}.Se detiene la búsqueda\")\n",
    "        break\n",
    "    else:\n",
    "        print(f\"El valor {valor_buscado} no se encuentra en la lista.\")\n",
    "        "
   ]
  },
  {
   "cell_type": "markdown",
   "metadata": {},
   "source": [
    "## Ejercicio 4: Estructura de código incompleto\n",
    "\n",
    "Define una función que aún no tenga lógica implementada, pero que se pueda ejecutar sin errores utilizando `pass`."
   ]
  },
  {
   "cell_type": "code",
   "execution_count": 4,
   "metadata": {},
   "outputs": [],
   "source": [
    "def función_sin_lógica ():\n",
    "    pass"
   ]
  },
  {
   "cell_type": "code",
   "execution_count": 5,
   "metadata": {},
   "outputs": [
    {
     "name": "stdout",
     "output_type": "stream",
     "text": [
      "La función se ejecuta sin errores\n"
     ]
    }
   ],
   "source": [
    "función_sin_lógica ()\n",
    "print(\"La función se ejecuta sin errores\")"
   ]
  },
  {
   "cell_type": "markdown",
   "metadata": {},
   "source": [
    "## Ejercicio 5: Validación condicional\n",
    "\n",
    "Escribe un bucle que verifique una lista de nombres. Si encuentra un nombre vacío (cadena vacía), salta esa iteración y continúa con los demás nombres.\n"
   ]
  },
  {
   "cell_type": "code",
   "execution_count": 6,
   "metadata": {},
   "outputs": [
    {
     "name": "stdout",
     "output_type": "stream",
     "text": [
      "El nombre válido es Claudia\n",
      "El nombre válido es Víctor\n",
      "El nombre válido es Jesús\n",
      "El nombre válido es Paula\n"
     ]
    }
   ],
   "source": [
    "lista_nombres = [\"Claudia\", \"\", \"Víctor\", \"\", \"Jesús\", \"Paula\"]\n",
    "\n",
    "for nombre in lista_nombres:\n",
    "    if nombre == \"\":\n",
    "        continue\n",
    "    print(f\"El nombre válido es {nombre}\")"
   ]
  },
  {
   "cell_type": "markdown",
   "metadata": {},
   "source": [
    "## Ejercicio 6: Búsqueda de claves en un diccionario\n",
    "\n",
    "Escribe un programa que recorra un diccionario y detenga la búsqueda si encuentra una clave específica pasada por el usuario.\n"
   ]
  },
  {
   "cell_type": "code",
   "execution_count": 7,
   "metadata": {},
   "outputs": [
    {
     "name": "stdout",
     "output_type": "stream",
     "text": [
      "La clave encontrada es: 'profesion' con valor 'Ingeniera'. Se detiene la búsqueda.\n"
     ]
    }
   ],
   "source": [
    "diccionario_persona = {\n",
    "    \"nombre\": \"Marimar\",\n",
    "    \"edad\": 50,\n",
    "    \"profesion\": \"Ingeniera\",\n",
    "    \"pais\": \"España\"\n",
    "}\n",
    "\n",
    "clave_buscada = input(\"Ingresa la clave que deseas buscar: \")\n",
    "\n",
    "for clave, valor in diccionario_persona.items():\n",
    "    if clave == clave_buscada:\n",
    "        print(f\"La clave encontrada es: '{clave}' con valor '{valor}'. Se detiene la búsqueda.\")\n",
    "        break\n",
    "else:\n",
    "    print(f\"La clave '{clave_buscada}' no se encontró en el diccionario.\")\n"
   ]
  },
  {
   "cell_type": "markdown",
   "metadata": {},
   "source": [
    "## Ejercicio 7: Bucle con múltiples excepciones\n",
    "\n",
    "Escribe un bucle que procese una lista de operaciones matemáticas, omitiendo las operaciones que intenten dividir por cero.\n"
   ]
  },
  {
   "cell_type": "code",
   "execution_count": 8,
   "metadata": {},
   "outputs": [
    {
     "name": "stdout",
     "output_type": "stream",
     "text": [
      "Resultado de 10 / 2 = 5.0\n",
      "Resultado de 15 / 3 = 5.0\n",
      "Operación omitida: división por cero en (8 / 0)\n",
      "Resultado de 20 / 5 = 4.0\n",
      "Operación omitida: división por cero en (7 / 0)\n"
     ]
    }
   ],
   "source": [
    "lista_operaciones = [(10, 2), (15, 3), (8, 0), (20, 5), (7, 0)]\n",
    "\n",
    "for dividendo, divisor in lista_operaciones:\n",
    "    if divisor == 0:\n",
    "        print(f\"Operación omitida: división por cero en ({dividendo} / {divisor})\")\n",
    "        continue\n",
    "    resultado = dividendo / divisor\n",
    "    print(f\"Resultado de {dividendo} / {divisor} = {resultado}\")\n"
   ]
  },
  {
   "cell_type": "markdown",
   "metadata": {},
   "source": [
    "## Ejercicio 8: Búsqueda en una lista anidada\n",
    "\n",
    "Escribe un programa que recorra una lista de listas y detenga la búsqueda cuando encuentre un valor mayor a 50.\n"
   ]
  },
  {
   "cell_type": "code",
   "execution_count": 9,
   "metadata": {},
   "outputs": [
    {
     "name": "stdout",
     "output_type": "stream",
     "text": [
      "El valor encontrado es: 60. Se detiene la búsqueda.\n"
     ]
    }
   ],
   "source": [
    "listas = [\n",
    "    [10, 20, 30],\n",
    "    [40, 50, 60],\n",
    "    [70, 80, 90]\n",
    "]\n",
    "\n",
    "for sublista in listas:\n",
    "    for valor in sublista:\n",
    "        if valor > 50:\n",
    "            print(f\"El valor encontrado es: {valor}. Se detiene la búsqueda.\")\n",
    "            break\n",
    "    else:\n",
    "        continue\n",
    "    break  \n"
   ]
  },
  {
   "cell_type": "markdown",
   "metadata": {},
   "source": [
    "## Ejercicio 9: Evaluación de series temporales\n",
    "\n",
    "Escribe un programa que recorra una lista de datos de series temporales y se detenga si encuentra un valor atípico (mayor a 100).\n"
   ]
  },
  {
   "cell_type": "code",
   "execution_count": 10,
   "metadata": {},
   "outputs": [
    {
     "name": "stdout",
     "output_type": "stream",
     "text": [
      "El valor atípico encontrado es: 101 en la posición 4. Se detiene la búsqueda.\n"
     ]
    }
   ],
   "source": [
    "lista_datos = [23, 45, 67, 89, 101, 150, 95]\n",
    "\n",
    "for indice, valor in enumerate(lista_datos):\n",
    "    if valor > 100:\n",
    "        print(f\"El valor atípico encontrado es: {valor} en la posición {indice}. Se detiene la búsqueda.\")\n",
    "        break\n",
    "else:\n",
    "    print(\"No se encontraron valores atípicos en la serie temporal.\")\n"
   ]
  },
  {
   "cell_type": "markdown",
   "metadata": {},
   "source": [
    "## Ejercicio 10: Iteración con valores faltantes\n",
    "\n",
    "Crea un bucle que recorra una lista de datos de ventas y salte los valores faltantes representados por `None`."
   ]
  },
  {
   "cell_type": "code",
   "execution_count": 11,
   "metadata": {},
   "outputs": [
    {
     "name": "stdout",
     "output_type": "stream",
     "text": [
      "Venta procesada: 150\n",
      "Venta procesada: 200\n",
      "Valor faltante encontrado. Saltando...\n",
      "Venta procesada: 300\n",
      "Valor faltante encontrado. Saltando...\n",
      "Venta procesada: 400\n",
      "Venta procesada: 250\n"
     ]
    }
   ],
   "source": [
    "ventas = [150, 200, None, 300, None, 400, 250]\n",
    "\n",
    "for venta in ventas:\n",
    "    if venta == None:\n",
    "        print(\"Valor faltante encontrado. Saltando...\")\n",
    "        continue\n",
    "    print(f\"Venta procesada: {venta}\")\n"
   ]
  },
  {
   "cell_type": "markdown",
   "metadata": {},
   "source": [
    "## Ejercicio 11: Control de flujo en bucles anidados\n",
    "\n",
    "Escribe un bucle que recorra la matriz dada y se detenga si se encuentra un número negativo, mostrando su posición.\n",
    "\n"
   ]
  },
  {
   "cell_type": "code",
   "execution_count": 12,
   "metadata": {},
   "outputs": [
    {
     "name": "stdout",
     "output_type": "stream",
     "text": [
      "El número negativo encontrado: -3 en la posición (1, 1). Se detiene la búsqueda.\n"
     ]
    }
   ],
   "source": [
    "matriz = [\n",
    "    [5, 12, 15],\n",
    "    [8, -3, 25],\n",
    "    [10, 20, 40]\n",
    "]\n",
    "\n",
    "for i, fila in enumerate(matriz):\n",
    "    for j, valor in enumerate(fila):\n",
    "        if valor < 0:\n",
    "            print(f\"El número negativo encontrado: {valor} en la posición ({i}, {j}). Se detiene la búsqueda.\")\n",
    "            break\n",
    "    else:\n",
    "        continue\n",
    "    break\n"
   ]
  }
 ],
 "metadata": {
  "kernelspec": {
   "display_name": "Python 3",
   "language": "python",
   "name": "python3"
  },
  "language_info": {
   "codemirror_mode": {
    "name": "ipython",
    "version": 3
   },
   "file_extension": ".py",
   "mimetype": "text/x-python",
   "name": "python",
   "nbconvert_exporter": "python",
   "pygments_lexer": "ipython3",
   "version": "3.12.4"
  }
 },
 "nbformat": 4,
 "nbformat_minor": 2
}
